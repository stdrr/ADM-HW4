{
 "cells": [
  {
   "cell_type": "markdown",
   "metadata": {},
   "source": [
    "<br>\n",
    "\n",
    "## 3. Algorithmic question"
   ]
  },
  {
   "cell_type": "markdown",
   "metadata": {},
   "source": [
    "**Theorem.** Let $A$ be an array of $n$ integers and let $s$ and $b$ be the minimum $\\min\\{A\\}$ and the maximum $\\max\\{A\\}$ of $A$, respectively.\n",
    "\n",
    "Then, defined $r = b - s$, we can prove that $A$ can be sorted in $\\mathbf{O}(n+r) time$.\n",
    "\n",
    "**Proof.**\n",
    "\n",
    "To prove this statement, let us consider the *Counting sort* algorithm, which assumes that it is given as input a set of integers in the range $[h,h+k]$, $\\forall h,k\\in \\mathbb{N}$ where $h \\lt k$. Then, for each number $x$, it determines how many elements are less than $x$ and then places $x$ into the right position in the output array. It requires an extra array $C$ of dimension $r$.\n",
    "\n",
    "$\n",
    "COUNTING-SORT(A, B): \\\\\n",
    "1 \\hspace{8mm} s = \\min{A}\\\\\n",
    "2 \\hspace{8mm} b = \\max{A}\\\\\n",
    "3 \\hspace{8mm} r = b - s\\\\\n",
    "4 \\hspace{8mm} \\text{let } C[0, r] \\text{ be an array}\\\\\n",
    "5 \\hspace{8mm} \\textbf{for } i=0 \\textbf{ to } r:\\\\\n",
    "6 \\hspace{16mm} C[i]=0\\\\\n",
    "7 \\hspace{8mm} \\textbf{for } i=0 \\textbf{ to } A.length:\\\\\n",
    "8 \\hspace{16mm} C[A[i]] = C[A[i]] + 1\\\\\n",
    "9 \\hspace{8mm} \\textbf{for } i=0 \\textbf{ to } r:\\\\\n",
    "10 \\hspace{16mm} C[i]=C[i]+C[i-1]\\\\\n",
    "11 \\hspace{8mm} \\text{let } B[0,n] \\text{ be a new array}\\\\\n",
    "12 \\hspace{8mm} \\textbf{for } i=A.length \\textbf{ down to } 0:\\\\\n",
    "13 \\hspace{16mm} B[C[A[i]]] = A[i]\\\\\n",
    "14 \\hspace{16mm} C[A[i]] = C[A[i]] - 1\\\\\n",
    "15 \\hspace{8mm} \\textbf{return } B \n",
    "$\n",
    "\n",
    "Analyzing the algorithm, lines $1$ and $2$, i.e. the research of the minimum and the maximum of $A$, take $\\mathbf{O}(n)$ each. Scanning $C$ takes $\\mathbf{O}(r)$ and placing the sorted numbers in $B$ takes again $\\mathbf{O}(n)$. Then, the overall complexity of *Counting Sort* is $\\mathbf{O}(n) + \\mathbf{O}(r) = \\mathbf{O}(n+r)$.\n",
    "\n",
    "In the end, we proved that $A$ can be sorted in $\\mathbf{O}(n+r)$."
   ]
  }
 ],
 "metadata": {
  "kernelspec": {
   "display_name": "Python 3",
   "language": "python",
   "name": "python3"
  },
  "language_info": {
   "codemirror_mode": {
    "name": "ipython",
    "version": 3
   },
   "file_extension": ".py",
   "mimetype": "text/x-python",
   "name": "python",
   "nbconvert_exporter": "python",
   "pygments_lexer": "ipython3",
   "version": "3.8.3"
  }
 },
 "nbformat": 4,
 "nbformat_minor": 4
}
