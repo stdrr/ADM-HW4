{
 "cells": [
  {
   "cell_type": "code",
   "execution_count": 1,
   "metadata": {
    "colab": {
     "base_uri": "https://localhost:8080/"
    },
    "executionInfo": {
     "elapsed": 22140,
     "status": "ok",
     "timestamp": 1608375657078,
     "user": {
      "displayName": "stefano darrigo",
      "photoUrl": "",
      "userId": "15662465187320884322"
     },
     "user_tz": -60
    },
    "id": "2NqivsjojrCa",
    "outputId": "68346fe9-1369-4856-bce8-c2ddceafda56"
   },
   "outputs": [
    {
     "name": "stdout",
     "output_type": "stream",
     "text": [
      "Mounted at /gdrive\n"
     ]
    }
   ],
   "source": [
    "from google.colab import drive\n",
    "drive.mount('/gdrive')"
   ]
  },
  {
   "cell_type": "code",
   "execution_count": 2,
   "metadata": {
    "colab": {
     "base_uri": "https://localhost:8080/"
    },
    "executionInfo": {
     "elapsed": 22121,
     "status": "ok",
     "timestamp": 1608375657079,
     "user": {
      "displayName": "stefano darrigo",
      "photoUrl": "",
      "userId": "15662465187320884322"
     },
     "user_tz": -60
    },
    "id": "dVg3fJIij90E",
    "outputId": "d2bcacc0-6875-409d-a8ee-5dcf1092b760"
   },
   "outputs": [
    {
     "name": "stdout",
     "output_type": "stream",
     "text": [
      "/gdrive/MyDrive/ADM-HW4\n"
     ]
    }
   ],
   "source": [
    "%cd /gdrive/MyDrive/ADM-HW4/"
   ]
  },
  {
   "cell_type": "markdown",
   "metadata": {
    "id": "Q63-2Qp5jn5-"
   },
   "source": [
    "## 2. Clustering"
   ]
  },
  {
   "cell_type": "code",
   "execution_count": 1,
   "metadata": {
    "executionInfo": {
     "elapsed": 1026,
     "status": "ok",
     "timestamp": 1608375657081,
     "user": {
      "displayName": "stefano darrigo",
      "photoUrl": "",
      "userId": "15662465187320884322"
     },
     "user_tz": -60
    },
    "id": "ZqTEVEhItHTe"
   },
   "outputs": [],
   "source": [
    "import pandas as pd"
   ]
  },
  {
   "cell_type": "markdown",
   "metadata": {
    "id": "Tx-BVRHRjn6J"
   },
   "source": [
    "### Data "
   ]
  },
  {
   "cell_type": "markdown",
   "metadata": {
    "id": "lHa8q5aijn6K"
   },
   "source": [
    "#### Description and exploration"
   ]
  },
  {
   "cell_type": "markdown",
   "metadata": {
    "id": "uzgCtxd2jn6L"
   },
   "source": [
    "The dataset [*Amazon Fine Food Reviews*](https://www.kaggle.com/snap/amazon-fine-food-reviews) we are working on contains the plain text of the reviews about fine food on Amazon - gathered from Oct 1999 to Oct 2012 - and the metadata associated with them. Specifically, the dataset has the following columns:  \n",
    "\n",
    "- Id -> identifies each review\n",
    "- ProductId -> identifies each product\n",
    "- UserId -> identifies the author of the review\n",
    "- ProfileName -> the username of the author; may be not present\n",
    "- HelpfulnessNumerator -> number of users that considered the review helpful\n",
    "- HelpfulnessDenominator -> number of users who judged the review helpful or not helpful\n",
    "- Score -> score given to the product reviewed \n",
    "- Time -> timestamp of the review, in UNIX format\n",
    "- Summary -> brief summary of the content of the review\n",
    "- Text -> plain text of the review\n",
    "\n",
    "First and foremost, we explore the dataset:"
   ]
  },
  {
   "cell_type": "code",
   "execution_count": null,
   "metadata": {
    "id": "PgduzcEhjn6N",
    "outputId": "644fc324-a6ec-4c28-c5d2-451fdb08b586"
   },
   "outputs": [
    {
     "data": {
      "text/html": [
       "<div>\n",
       "<style scoped>\n",
       "    .dataframe tbody tr th:only-of-type {\n",
       "        vertical-align: middle;\n",
       "    }\n",
       "\n",
       "    .dataframe tbody tr th {\n",
       "        vertical-align: top;\n",
       "    }\n",
       "\n",
       "    .dataframe thead th {\n",
       "        text-align: right;\n",
       "    }\n",
       "</style>\n",
       "<table border=\"1\" class=\"dataframe\">\n",
       "  <thead>\n",
       "    <tr style=\"text-align: right;\">\n",
       "      <th></th>\n",
       "      <th>Id</th>\n",
       "      <th>ProductId</th>\n",
       "      <th>UserId</th>\n",
       "      <th>ProfileName</th>\n",
       "      <th>HelpfulnessNumerator</th>\n",
       "      <th>HelpfulnessDenominator</th>\n",
       "      <th>Score</th>\n",
       "      <th>Time</th>\n",
       "      <th>Summary</th>\n",
       "      <th>Text</th>\n",
       "    </tr>\n",
       "  </thead>\n",
       "  <tbody>\n",
       "    <tr>\n",
       "      <th>0</th>\n",
       "      <td>1</td>\n",
       "      <td>B001E4KFG0</td>\n",
       "      <td>A3SGXH7AUHU8GW</td>\n",
       "      <td>delmartian</td>\n",
       "      <td>1</td>\n",
       "      <td>1</td>\n",
       "      <td>5</td>\n",
       "      <td>1303862400</td>\n",
       "      <td>Good Quality Dog Food</td>\n",
       "      <td>I have bought several of the Vitality canned d...</td>\n",
       "    </tr>\n",
       "    <tr>\n",
       "      <th>1</th>\n",
       "      <td>2</td>\n",
       "      <td>B00813GRG4</td>\n",
       "      <td>A1D87F6ZCVE5NK</td>\n",
       "      <td>dll pa</td>\n",
       "      <td>0</td>\n",
       "      <td>0</td>\n",
       "      <td>1</td>\n",
       "      <td>1346976000</td>\n",
       "      <td>Not as Advertised</td>\n",
       "      <td>Product arrived labeled as Jumbo Salted Peanut...</td>\n",
       "    </tr>\n",
       "    <tr>\n",
       "      <th>2</th>\n",
       "      <td>3</td>\n",
       "      <td>B000LQOCH0</td>\n",
       "      <td>ABXLMWJIXXAIN</td>\n",
       "      <td>Natalia Corres \"Natalia Corres\"</td>\n",
       "      <td>1</td>\n",
       "      <td>1</td>\n",
       "      <td>4</td>\n",
       "      <td>1219017600</td>\n",
       "      <td>\"Delight\" says it all</td>\n",
       "      <td>This is a confection that has been around a fe...</td>\n",
       "    </tr>\n",
       "    <tr>\n",
       "      <th>3</th>\n",
       "      <td>4</td>\n",
       "      <td>B000UA0QIQ</td>\n",
       "      <td>A395BORC6FGVXV</td>\n",
       "      <td>Karl</td>\n",
       "      <td>3</td>\n",
       "      <td>3</td>\n",
       "      <td>2</td>\n",
       "      <td>1307923200</td>\n",
       "      <td>Cough Medicine</td>\n",
       "      <td>If you are looking for the secret ingredient i...</td>\n",
       "    </tr>\n",
       "    <tr>\n",
       "      <th>4</th>\n",
       "      <td>5</td>\n",
       "      <td>B006K2ZZ7K</td>\n",
       "      <td>A1UQRSCLF8GW1T</td>\n",
       "      <td>Michael D. Bigham \"M. Wassir\"</td>\n",
       "      <td>0</td>\n",
       "      <td>0</td>\n",
       "      <td>5</td>\n",
       "      <td>1350777600</td>\n",
       "      <td>Great taffy</td>\n",
       "      <td>Great taffy at a great price.  There was a wid...</td>\n",
       "    </tr>\n",
       "  </tbody>\n",
       "</table>\n",
       "</div>"
      ],
      "text/plain": [
       "   Id   ProductId          UserId                      ProfileName  \\\n",
       "0   1  B001E4KFG0  A3SGXH7AUHU8GW                       delmartian   \n",
       "1   2  B00813GRG4  A1D87F6ZCVE5NK                           dll pa   \n",
       "2   3  B000LQOCH0   ABXLMWJIXXAIN  Natalia Corres \"Natalia Corres\"   \n",
       "3   4  B000UA0QIQ  A395BORC6FGVXV                             Karl   \n",
       "4   5  B006K2ZZ7K  A1UQRSCLF8GW1T    Michael D. Bigham \"M. Wassir\"   \n",
       "\n",
       "   HelpfulnessNumerator  HelpfulnessDenominator  Score        Time  \\\n",
       "0                     1                       1      5  1303862400   \n",
       "1                     0                       0      1  1346976000   \n",
       "2                     1                       1      4  1219017600   \n",
       "3                     3                       3      2  1307923200   \n",
       "4                     0                       0      5  1350777600   \n",
       "\n",
       "                 Summary                                               Text  \n",
       "0  Good Quality Dog Food  I have bought several of the Vitality canned d...  \n",
       "1      Not as Advertised  Product arrived labeled as Jumbo Salted Peanut...  \n",
       "2  \"Delight\" says it all  This is a confection that has been around a fe...  \n",
       "3         Cough Medicine  If you are looking for the secret ingredient i...  \n",
       "4            Great taffy  Great taffy at a great price.  There was a wid...  "
      ]
     },
     "execution_count": 2,
     "metadata": {
      "tags": []
     },
     "output_type": "execute_result"
    }
   ],
   "source": [
    "dataset = pd.read_csv('data/Reviews.csv')\n",
    "dataset.head()"
   ]
  },
  {
   "cell_type": "code",
   "execution_count": null,
   "metadata": {
    "id": "dJG4ngUhjn6P",
    "outputId": "cc415ebd-5550-4b13-f672-36dfc55cc339"
   },
   "outputs": [
    {
     "name": "stdout",
     "output_type": "stream",
     "text": [
      "<class 'pandas.core.frame.DataFrame'>\n",
      "RangeIndex: 568454 entries, 0 to 568453\n",
      "Data columns (total 10 columns):\n",
      " #   Column                  Non-Null Count   Dtype \n",
      "---  ------                  --------------   ----- \n",
      " 0   Id                      568454 non-null  int64 \n",
      " 1   ProductId               568454 non-null  object\n",
      " 2   UserId                  568454 non-null  object\n",
      " 3   ProfileName             568438 non-null  object\n",
      " 4   HelpfulnessNumerator    568454 non-null  int64 \n",
      " 5   HelpfulnessDenominator  568454 non-null  int64 \n",
      " 6   Score                   568454 non-null  int64 \n",
      " 7   Time                    568454 non-null  int64 \n",
      " 8   Summary                 568427 non-null  object\n",
      " 9   Text                    568454 non-null  object\n",
      "dtypes: int64(5), object(5)\n",
      "memory usage: 43.4+ MB\n"
     ]
    }
   ],
   "source": [
    "dataset.info()"
   ]
  },
  {
   "cell_type": "code",
   "execution_count": null,
   "metadata": {
    "id": "vvSfLtSzjn6P",
    "outputId": "9956c9ae-82ef-40b2-dcbd-2e01a8841437"
   },
   "outputs": [
    {
     "data": {
      "text/plain": [
       "Id                         0\n",
       "ProductId                  0\n",
       "UserId                     0\n",
       "ProfileName               16\n",
       "HelpfulnessNumerator       0\n",
       "HelpfulnessDenominator     0\n",
       "Score                      0\n",
       "Time                       0\n",
       "Summary                   27\n",
       "Text                       0\n",
       "dtype: int64"
      ]
     },
     "execution_count": 4,
     "metadata": {
      "tags": []
     },
     "output_type": "execute_result"
    }
   ],
   "source": [
    "dataset.isnull().sum()"
   ]
  },
  {
   "cell_type": "markdown",
   "metadata": {
    "id": "eL1rQX49jn6Q"
   },
   "source": [
    "As we can see, there are few data missing in the dataset. Since the lack of information does not affect the columns of interest of this analysis, we can ignore it."
   ]
  },
  {
   "cell_type": "markdown",
   "metadata": {
    "id": "DaZSGNxyjn6S"
   },
   "source": [
    "### Data pre-processing"
   ]
  },
  {
   "cell_type": "markdown",
   "metadata": {
    "id": "8O55_71qjn6S"
   },
   "source": [
    "Before applying K-means on the dataset, it is worth to pre-process the text, in order to denoise the data and reduce the number of features. Thi last point is crucial, since the K-means algorithm suffers of the curse of dimensionality. \n",
    "\n",
    "The first step, as usual, is to get rid of the few informative words from the text. To do this, we write the following function:"
   ]
  },
  {
   "cell_type": "code",
   "execution_count": null,
   "metadata": {
    "id": "aJftqMQOjn6S"
   },
   "outputs": [],
   "source": [
    "from nltk.tokenize import word_tokenize\n",
    "from nltk.corpus import stopwords\n",
    "from nltk.stem import WordNetLemmatizer\n",
    "from nltk import pos_tag\n",
    "\n",
    "\n",
    "\n",
    "def clean_text(text, stop_words, parts_of_speech, lemmatizer):\n",
    "    words_list = pos_tag(word_tokenize(text))\n",
    "    result_words = []\n",
    "    for word, pos in words_list:\n",
    "        if (word.lower() not in stop_words) and word.isalpha() and (pos[0] in parts_of_speech):\n",
    "            result_words.append(lemmatizer.lemmatize(word.lower(), pos=parts_of_speech[pos[0]]))\n",
    "    return ' '.join(result_words)"
   ]
  },
  {
   "cell_type": "markdown",
   "metadata": {
    "id": "vhsgzncijn6T"
   },
   "source": [
    "Specifically, the function above transforms into lower case the words in the text, gets rid of the words that contain non alphabetical characters, lemmatizes and tags the words and filters the text according to part of speech tag assigned to each word. \n",
    "\n",
    "We extend the standard `nltk` stop words list with a custom list of adjectives related to opinion expression; indeed, opinion adjectives are not related to the specific kind of product, but only with the experience customers had with the product; then, these adjectives don't add any information about the kind of products and rather they are a sort of noise across the products' reviews. The list of opinion adjectives is available [here](https://www.cs.uic.edu/~liub/FBS/sentiment-analysis.html).\n",
    "\n",
    "Furthermore, since we are trying to reduce the dimensionality of the feature set as much as possible with the minimum information loss, we filter out all the words that are not nouns, verbs or adjectives; actually, we reckoned that pronouns, articles, adverbs and so on give us few or no information about the review's topic."
   ]
  },
  {
   "cell_type": "code",
   "execution_count": null,
   "metadata": {
    "id": "vptc4FvSjn6U"
   },
   "outputs": [],
   "source": [
    "with open('./data/opinion-lexicon-English/negative-words.txt', 'r') as neg_file:\n",
    "    sentiment_words = neg_file.readlines()\n",
    "\n",
    "with open('./data/opinion-lexicon-English/positive-words.txt', 'r') as pos_file:\n",
    "    sentiment_words += pos_file.readlines()\n",
    "\n",
    "sentiment_words = [w.rstrip('\\n') for w in sentiment_words] # clean the words from the \\n char\n",
    "kargs = {'lemmatizer': WordNetLemmatizer(),\n",
    "         'stop_words': dict.fromkeys(stopwords.words('english') + sentiment_words),\n",
    "         'parts_of_speech': {'N':'n', 'V':'v', 'J':'a'}\n",
    "        }\n",
    "\n",
    "dataset['Text'] = dataset.Text.apply(clean_text, **kargs)"
   ]
  },
  {
   "cell_type": "markdown",
   "metadata": {
    "id": "zkpoDMV_jn6V"
   },
   "source": [
    "Text cleaning left us with a bunch of blank rows. Checking them in the original dataset, we found that the text of these reviews was not informative at all, cause it contained only opinions, without the products' specifications. Then, we discard these rows from the text analysis."
   ]
  },
  {
   "cell_type": "code",
   "execution_count": null,
   "metadata": {
    "id": "sXFak6RMjn6V",
    "outputId": "090fb89e-017a-49d4-a320-3694a8d48ffc"
   },
   "outputs": [
    {
     "data": {
      "text/html": [
       "<div>\n",
       "<style scoped>\n",
       "    .dataframe tbody tr th:only-of-type {\n",
       "        vertical-align: middle;\n",
       "    }\n",
       "\n",
       "    .dataframe tbody tr th {\n",
       "        vertical-align: top;\n",
       "    }\n",
       "\n",
       "    .dataframe thead th {\n",
       "        text-align: right;\n",
       "    }\n",
       "</style>\n",
       "<table border=\"1\" class=\"dataframe\">\n",
       "  <thead>\n",
       "    <tr style=\"text-align: right;\">\n",
       "      <th></th>\n",
       "      <th>Id</th>\n",
       "      <th>ProductId</th>\n",
       "      <th>UserId</th>\n",
       "      <th>ProfileName</th>\n",
       "      <th>HelpfulnessNumerator</th>\n",
       "      <th>HelpfulnessDenominator</th>\n",
       "      <th>Score</th>\n",
       "      <th>Time</th>\n",
       "      <th>Summary</th>\n",
       "      <th>Text</th>\n",
       "    </tr>\n",
       "  </thead>\n",
       "  <tbody>\n",
       "  </tbody>\n",
       "</table>\n",
       "</div>"
      ],
      "text/plain": [
       "Empty DataFrame\n",
       "Columns: [Id, ProductId, UserId, ProfileName, HelpfulnessNumerator, HelpfulnessDenominator, Score, Time, Summary, Text]\n",
       "Index: []"
      ]
     },
     "execution_count": 5,
     "metadata": {
      "tags": []
     },
     "output_type": "execute_result"
    }
   ],
   "source": [
    "dataset[dataset.Text == '']"
   ]
  },
  {
   "cell_type": "code",
   "execution_count": null,
   "metadata": {
    "id": "2-13RM_Sjn6W"
   },
   "outputs": [],
   "source": [
    "dataset = dataset[dataset.Text != '']"
   ]
  },
  {
   "cell_type": "markdown",
   "metadata": {
    "id": "CEXE2Gy0jn6W"
   },
   "source": [
    "Since the text pre-processing takes several minutes to be done, we save the pre-processed text in a new file, so that we can load fastly then: "
   ]
  },
  {
   "cell_type": "code",
   "execution_count": null,
   "metadata": {
    "id": "FVsxU8B2jn6X"
   },
   "outputs": [],
   "source": [
    "dataset.to_csv('data/Reviews_processed.csv', index=False)"
   ]
  },
  {
   "cell_type": "code",
   "execution_count": 2,
   "metadata": {
    "executionInfo": {
     "elapsed": 5427,
     "status": "ok",
     "timestamp": 1608375680734,
     "user": {
      "displayName": "stefano darrigo",
      "photoUrl": "",
      "userId": "15662465187320884322"
     },
     "user_tz": -60
    },
    "id": "KAcz43g3jn6X"
   },
   "outputs": [],
   "source": [
    "dataset = pd.read_csv('data/Reviews_processed.csv')"
   ]
  },
  {
   "cell_type": "code",
   "execution_count": null,
   "metadata": {
    "colab": {
     "base_uri": "https://localhost:8080/",
     "height": 204
    },
    "executionInfo": {
     "elapsed": 3994,
     "status": "ok",
     "timestamp": 1608277197894,
     "user": {
      "displayName": "stefano darrigo",
      "photoUrl": "",
      "userId": "15662465187320884322"
     },
     "user_tz": -60
    },
    "id": "FoMW0Ojsjn6X",
    "outputId": "25d1dbf5-362d-42e1-f882-68678fbc828c",
    "scrolled": false
   },
   "outputs": [
    {
     "data": {
      "text/html": [
       "<div>\n",
       "<style scoped>\n",
       "    .dataframe tbody tr th:only-of-type {\n",
       "        vertical-align: middle;\n",
       "    }\n",
       "\n",
       "    .dataframe tbody tr th {\n",
       "        vertical-align: top;\n",
       "    }\n",
       "\n",
       "    .dataframe thead th {\n",
       "        text-align: right;\n",
       "    }\n",
       "</style>\n",
       "<table border=\"1\" class=\"dataframe\">\n",
       "  <thead>\n",
       "    <tr style=\"text-align: right;\">\n",
       "      <th></th>\n",
       "      <th>Id</th>\n",
       "      <th>ProductId</th>\n",
       "      <th>UserId</th>\n",
       "      <th>ProfileName</th>\n",
       "      <th>HelpfulnessNumerator</th>\n",
       "      <th>HelpfulnessDenominator</th>\n",
       "      <th>Score</th>\n",
       "      <th>Time</th>\n",
       "      <th>Summary</th>\n",
       "      <th>Text</th>\n",
       "    </tr>\n",
       "  </thead>\n",
       "  <tbody>\n",
       "    <tr>\n",
       "      <th>0</th>\n",
       "      <td>1</td>\n",
       "      <td>B001E4KFG0</td>\n",
       "      <td>A3SGXH7AUHU8GW</td>\n",
       "      <td>delmartian</td>\n",
       "      <td>1</td>\n",
       "      <td>1</td>\n",
       "      <td>5</td>\n",
       "      <td>1303862400</td>\n",
       "      <td>Good Quality Dog Food</td>\n",
       "      <td>buy several vitality can food product find qua...</td>\n",
       "    </tr>\n",
       "    <tr>\n",
       "      <th>1</th>\n",
       "      <td>2</td>\n",
       "      <td>B00813GRG4</td>\n",
       "      <td>A1D87F6ZCVE5NK</td>\n",
       "      <td>dll pa</td>\n",
       "      <td>0</td>\n",
       "      <td>0</td>\n",
       "      <td>1</td>\n",
       "      <td>1346976000</td>\n",
       "      <td>Not as Advertised</td>\n",
       "      <td>product arrive label jumbo salted peanut peanu...</td>\n",
       "    </tr>\n",
       "    <tr>\n",
       "      <th>2</th>\n",
       "      <td>3</td>\n",
       "      <td>B000LQOCH0</td>\n",
       "      <td>ABXLMWJIXXAIN</td>\n",
       "      <td>Natalia Corres \"Natalia Corres\"</td>\n",
       "      <td>1</td>\n",
       "      <td>1</td>\n",
       "      <td>4</td>\n",
       "      <td>1219017600</td>\n",
       "      <td>\"Delight\" says it all</td>\n",
       "      <td>confection century light pillowy citrus gelati...</td>\n",
       "    </tr>\n",
       "    <tr>\n",
       "      <th>3</th>\n",
       "      <td>4</td>\n",
       "      <td>B000UA0QIQ</td>\n",
       "      <td>A395BORC6FGVXV</td>\n",
       "      <td>Karl</td>\n",
       "      <td>3</td>\n",
       "      <td>3</td>\n",
       "      <td>2</td>\n",
       "      <td>1307923200</td>\n",
       "      <td>Cough Medicine</td>\n",
       "      <td>look secret ingredient robitussin believe find...</td>\n",
       "    </tr>\n",
       "    <tr>\n",
       "      <th>4</th>\n",
       "      <td>5</td>\n",
       "      <td>B006K2ZZ7K</td>\n",
       "      <td>A1UQRSCLF8GW1T</td>\n",
       "      <td>Michael D. Bigham \"M. Wassir\"</td>\n",
       "      <td>0</td>\n",
       "      <td>0</td>\n",
       "      <td>5</td>\n",
       "      <td>1350777600</td>\n",
       "      <td>Great taffy</td>\n",
       "      <td>taffy price wide assortment yummy taffy delive...</td>\n",
       "    </tr>\n",
       "  </tbody>\n",
       "</table>\n",
       "</div>"
      ],
      "text/plain": [
       "   Id  ...                                               Text\n",
       "0   1  ...  buy several vitality can food product find qua...\n",
       "1   2  ...  product arrive label jumbo salted peanut peanu...\n",
       "2   3  ...  confection century light pillowy citrus gelati...\n",
       "3   4  ...  look secret ingredient robitussin believe find...\n",
       "4   5  ...  taffy price wide assortment yummy taffy delive...\n",
       "\n",
       "[5 rows x 10 columns]"
      ]
     },
     "execution_count": 5,
     "metadata": {
      "tags": []
     },
     "output_type": "execute_result"
    }
   ],
   "source": [
    "dataset.head()"
   ]
  },
  {
   "cell_type": "markdown",
   "metadata": {
    "id": "-GHfDndAtHTm"
   },
   "source": [
    "Now, having processed the reviews' content, we aggregate them by the `ProductId`; this way, we obtain a dataset of products associated with their reviews and we can cluster them according to the text."
   ]
  },
  {
   "cell_type": "code",
   "execution_count": 3,
   "metadata": {
    "colab": {
     "base_uri": "https://localhost:8080/",
     "height": 204
    },
    "executionInfo": {
     "elapsed": 2193,
     "status": "ok",
     "timestamp": 1608375687226,
     "user": {
      "displayName": "stefano darrigo",
      "photoUrl": "",
      "userId": "15662465187320884322"
     },
     "user_tz": -60
    },
    "id": "CN1yccvRtHTm",
    "outputId": "ff6121b8-85ff-4ee9-b226-645c0304fece"
   },
   "outputs": [
    {
     "data": {
      "text/html": [
       "<div>\n",
       "<style scoped>\n",
       "    .dataframe tbody tr th:only-of-type {\n",
       "        vertical-align: middle;\n",
       "    }\n",
       "\n",
       "    .dataframe tbody tr th {\n",
       "        vertical-align: top;\n",
       "    }\n",
       "\n",
       "    .dataframe thead th {\n",
       "        text-align: right;\n",
       "    }\n",
       "</style>\n",
       "<table border=\"1\" class=\"dataframe\">\n",
       "  <thead>\n",
       "    <tr style=\"text-align: right;\">\n",
       "      <th></th>\n",
       "      <th>ProductId</th>\n",
       "      <th>Text</th>\n",
       "    </tr>\n",
       "  </thead>\n",
       "  <tbody>\n",
       "    <tr>\n",
       "      <th>0</th>\n",
       "      <td>0006641040</td>\n",
       "      <td>day person say chicken soup go follow word sou...</td>\n",
       "    </tr>\n",
       "    <tr>\n",
       "      <th>1</th>\n",
       "      <td>141278509X</td>\n",
       "      <td>product archer farm drink mix mix flavored pac...</td>\n",
       "    </tr>\n",
       "    <tr>\n",
       "      <th>2</th>\n",
       "      <td>2734888454</td>\n",
       "      <td>dog chicken product china wont buy find chicke...</td>\n",
       "    </tr>\n",
       "    <tr>\n",
       "      <th>3</th>\n",
       "      <td>2841233731</td>\n",
       "      <td>book read ingredient store recipe book go spec...</td>\n",
       "    </tr>\n",
       "    <tr>\n",
       "      <th>4</th>\n",
       "      <td>7310172001</td>\n",
       "      <td>product health snack pup make beef liver puppy...</td>\n",
       "    </tr>\n",
       "  </tbody>\n",
       "</table>\n",
       "</div>"
      ],
      "text/plain": [
       "    ProductId                                               Text\n",
       "0  0006641040  day person say chicken soup go follow word sou...\n",
       "1  141278509X  product archer farm drink mix mix flavored pac...\n",
       "2  2734888454  dog chicken product china wont buy find chicke...\n",
       "3  2841233731  book read ingredient store recipe book go spec...\n",
       "4  7310172001  product health snack pup make beef liver puppy..."
      ]
     },
     "execution_count": 3,
     "metadata": {},
     "output_type": "execute_result"
    }
   ],
   "source": [
    "dataset = dataset.loc[:, ('ProductId', 'Text')]\n",
    "dataset = dataset.groupby('ProductId')['Text'].agg(lambda x: ' '.join(x)).reset_index()\n",
    "dataset.head()"
   ]
  },
  {
   "cell_type": "markdown",
   "metadata": {
    "id": "QZmccy78jn6Y"
   },
   "source": [
    "At this point, it is possible to compute the document-term matrix. Following the results and the conclusions in [[1]](#r:1), [[2]](#r:2), [[3]](#r:3), we decided to represent the reviews using a TF-IDF representation instead of a binary representation; indeed, to discriminate the topic of each review, it is worth to consider which words are the most informative and which are almost noise, i.e. which are present in many reviews and then no discriminative.\n",
    "\n",
    "To compute the document-term matrix (i.e. the product-term matrix), we leverage the `TfidfVectorizer` object of the `sklearn` library.\n",
    "\n",
    "As a first step for noise reduction, we specify in the constructor of `TfidfVectorizer` the parameter `max_df`, which allows us to filter out the words that appear in a fraction of the documents grater than the one specified; doing this, we discard the words that are stop words in our specific corpus of documents. \n",
    "\n",
    "Then, with the parameter `min_df` we also discard those words that are very rare and thus that may alter too much the vector representation of the documents in the space. After many tries, we found that the optimal values for these parameters are ???."
   ]
  },
  {
   "cell_type": "code",
   "execution_count": 4,
   "metadata": {
    "executionInfo": {
     "elapsed": 12564,
     "status": "ok",
     "timestamp": 1608375726973,
     "user": {
      "displayName": "stefano darrigo",
      "photoUrl": "",
      "userId": "15662465187320884322"
     },
     "user_tz": -60
    },
    "id": "Gj8fVKwgjn6Y"
   },
   "outputs": [],
   "source": [
    "from sklearn.feature_extraction.text import TfidfVectorizer # document vectorization and TF-IDF\n",
    "\n",
    "vectorizer = TfidfVectorizer(max_df=0.7, min_df=5, use_idf=True) # word associated to less than 5 products\n",
    "docterm_mat = vectorizer.fit_transform(dataset['Text'])"
   ]
  },
  {
   "cell_type": "code",
   "execution_count": 5,
   "metadata": {
    "colab": {
     "base_uri": "https://localhost:8080/"
    },
    "executionInfo": {
     "elapsed": 8029,
     "status": "ok",
     "timestamp": 1608375726977,
     "user": {
      "displayName": "stefano darrigo",
      "photoUrl": "",
      "userId": "15662465187320884322"
     },
     "user_tz": -60
    },
    "id": "mf2ireH0jn6Z",
    "outputId": "8ebb49b3-ed44-4903-ee89-440f50663b4d"
   },
   "outputs": [
    {
     "data": {
      "text/plain": [
       "27182"
      ]
     },
     "execution_count": 5,
     "metadata": {},
     "output_type": "execute_result"
    }
   ],
   "source": [
    "docterm_mat.shape[1] # number of features, that is number of words in the vocabulary"
   ]
  },
  {
   "cell_type": "markdown",
   "metadata": {
    "id": "dYCLmZnwjn6Z"
   },
   "source": [
    "As we can see, the number of features, that is the number of components of the vectors that represent the documents, is still huge."
   ]
  },
  {
   "cell_type": "markdown",
   "metadata": {
    "id": "ea2jnMrdjn6Z"
   },
   "source": [
    "To dramatically reduce the number of features, we apply the SVD method to the document-term matrix. We start trying with a number of components equal to 100, as suggested, and increasing this number until at least the 60% of the initial variance is retained."
   ]
  },
  {
   "cell_type": "code",
   "execution_count": 6,
   "metadata": {
    "executionInfo": {
     "elapsed": 988,
     "status": "ok",
     "timestamp": 1608375727984,
     "user": {
      "displayName": "stefano darrigo",
      "photoUrl": "",
      "userId": "15662465187320884322"
     },
     "user_tz": -60
    },
    "id": "dJQIvFY1jn6c"
   },
   "outputs": [],
   "source": [
    "from sklearn.decomposition import TruncatedSVD # for features reduction\n",
    "import numpy as np\n",
    "from matplotlib import pyplot as plt\n",
    "from tqdm import tqdm\n",
    "\n",
    "\n",
    "def estimate_components(docterm_mat, start_n, end_n, step=100):\n",
    "    components_variance = {}\n",
    "    fig = plt.figure(figsize=(16, 10))\n",
    "    for n_components in tqdm(range(start_n, end_n, step)):\n",
    "        svd = TruncatedSVD(n_components=n_components)\n",
    "        svd.fit_transform(docterm_mat)\n",
    "        components_variance[n_components] = round(np.cumsum(svd.explained_variance_ratio_)[-1], 5) * 100\n",
    "        del svd\n",
    "    plt.plot(list(components_variance.keys()), list(components_variance.values()))\n",
    "    plt.xlabel('Number of components')\n",
    "    plt.ylabel('Variance')\n",
    "    plt.grid()\n",
    "    plt.show()"
   ]
  },
  {
   "cell_type": "code",
   "execution_count": null,
   "metadata": {
    "colab": {
     "base_uri": "https://localhost:8080/"
    },
    "id": "YY-UAw6bjn6d",
    "outputId": "562d4125-0d33-40fa-9863-8f3a158cd666"
   },
   "outputs": [
    {
     "name": "stderr",
     "output_type": "stream",
     "text": [
      "100%|██████████| 11/11 [11:48<00:00, 64.44s/it]\n"
     ]
    },
    {
     "data": {
      "image/png": "[encoded data removed]",
      "text/plain": [
       "<Figure size 1152x720 with 1 Axes>"
      ]
     },
     "metadata": {
      "needs_background": "light",
      "tags": []
     },
     "output_type": "display_data"
    }
   ],
   "source": [
    "estimate_components(docterm_mat, 100, 1200, 100)"
   ]
  },
  {
   "cell_type": "code",
   "execution_count": null,
   "metadata": {
    "colab": {
     "base_uri": "https://localhost:8080/",
     "height": 623
    },
    "executionInfo": {
     "elapsed": 862963,
     "status": "ok",
     "timestamp": 1608285222219,
     "user": {
      "displayName": "stefano darrigo",
      "photoUrl": "",
      "userId": "15662465187320884322"
     },
     "user_tz": -60
    },
    "id": "nIuWiuIkN8CL",
    "outputId": "8d419444-4a77-4210-fac3-744e50015ca6"
   },
   "outputs": [
    {
     "name": "stderr",
     "output_type": "stream",
     "text": [
      "100%|██████████| 11/11 [14:22<00:00, 78.38s/it] \n"
     ]
    },
    {
     "data": {
      "image/png": "[encoded data removed]",
      "text/plain": [
       "<Figure size 1152x720 with 1 Axes>"
      ]
     },
     "metadata": {
      "needs_background": "light",
      "tags": []
     },
     "output_type": "display_data"
    }
   ],
   "source": [
    "estimate_components(docterm_mat, 100, 1200, 100)"
   ]
  },
  {
   "cell_type": "markdown",
   "metadata": {
    "id": "b3tL_sE0tHTp"
   },
   "source": [
    "According to the plot above, the 60% of the variance corresponds to about 780 components. Because the plot was computed taking into account an increment of 100 components at each step and then it is an approximation, we pick 800 components, which guarantee to have more than the 60% of the variance.\n",
    "\n",
    "As pointed out in [[4]](#r:4), K-means is known to work better on normalized features; then we pipeline the SVD method with a normalization, as in the official `sklearn` documentation. "
   ]
  },
  {
   "cell_type": "code",
   "execution_count": 7,
   "metadata": {
    "executionInfo": {
     "elapsed": 109633,
     "status": "ok",
     "timestamp": 1608375899029,
     "user": {
      "displayName": "stefano darrigo",
      "photoUrl": "",
      "userId": "15662465187320884322"
     },
     "user_tz": -60
    },
    "id": "byt6mnSFtHTq"
   },
   "outputs": [],
   "source": [
    "from sklearn.pipeline import make_pipeline\n",
    "from sklearn.preprocessing import Normalizer\n",
    "\n",
    "svd = TruncatedSVD(n_components=710)\n",
    "normalizer = Normalizer(copy=False)\n",
    "lsa = make_pipeline(svd, normalizer)\n",
    "reduced = lsa.fit_transform(docterm_mat)"
   ]
  },
  {
   "cell_type": "code",
   "execution_count": 8,
   "metadata": {
    "colab": {
     "base_uri": "https://localhost:8080/"
    },
    "executionInfo": {
     "elapsed": 106738,
     "status": "ok",
     "timestamp": 1608375899031,
     "user": {
      "displayName": "stefano darrigo",
      "photoUrl": "",
      "userId": "15662465187320884322"
     },
     "user_tz": -60
    },
    "id": "GnVj75xetHTq",
    "outputId": "2dff872a-39b6-419d-e4d0-960d0f3be67b"
   },
   "outputs": [
    {
     "name": "stdout",
     "output_type": "stream",
     "text": [
      "Variance with 800 components:\t59.104%\n"
     ]
    }
   ],
   "source": [
    "print(f'Variance with 800 components:\\t{round(np.cumsum(svd.explained_variance_ratio_)[-1], 5) * 100}%')"
   ]
  },
  {
   "cell_type": "markdown",
   "metadata": {
    "id": "Wx1qUs6DtHTq"
   },
   "source": [
    "In the next section, we implement K-means and we apply it on the reduced matrix of products-terms."
   ]
  },
  {
   "cell_type": "markdown",
   "metadata": {
    "id": "IvH2IfJGjn6f"
   },
   "source": [
    "<br>\n",
    "\n",
    "### K-means"
   ]
  },
  {
   "cell_type": "code",
   "execution_count": 9,
   "metadata": {
    "executionInfo": {
     "elapsed": 1300,
     "status": "ok",
     "timestamp": 1608375900337,
     "user": {
      "displayName": "stefano darrigo",
      "photoUrl": "",
      "userId": "15662465187320884322"
     },
     "user_tz": -60
    },
    "id": "hH7IifqXjn6f"
   },
   "outputs": [],
   "source": [
    "# importing the libraries\n",
    "import numpy as np\n",
    "import random\n",
    "from random import randint"
   ]
  },
  {
   "cell_type": "code",
   "execution_count": 10,
   "metadata": {
    "executionInfo": {
     "elapsed": 1298,
     "status": "ok",
     "timestamp": 1608375900339,
     "user": {
      "displayName": "stefano darrigo",
      "photoUrl": "",
      "userId": "15662465187320884322"
     },
     "user_tz": -60
    },
    "id": "dH8EQnkIjn6g"
   },
   "outputs": [],
   "source": [
    "# k : total number of the clusters\n",
    "def random_centers(k, matrix):\n",
    "    copy_matrix = np.copy(matrix)\n",
    "    # matrix for cluster centroids\n",
    "    center_matrix = np.zeros((k, len(matrix[0])))\n",
    "    \n",
    "    # randomly choosing k cluster centers without replacement\n",
    "    for i in range(k):\n",
    "        new_center_index = random.randint(0, copy_matrix.shape[0]-1)\n",
    "        center_matrix[i,:] = copy_matrix[new_center_index, :]\n",
    "        copy_matrix = np.delete(copy_matrix, new_center_index, 0 )\n",
    "    return center_matrix\n",
    "\n",
    "def compute_centroids(cluster_dictionary, matrix, k):\n",
    "    \n",
    "    cluster_dict_copy = {key:matrix[cluster_dictionary[key], :] for key in cluster_dictionary}\n",
    "    \n",
    "    # computes the new centroid values\n",
    "    for i in range(len(cluster_dictionary.keys())):\n",
    "        cluster_dict_copy[i] = np.array([cluster_dict_copy[i]])\n",
    "        cluster_dict_copy[i] = np.mean(cluster_dict_copy[i][0], axis=0)\n",
    "    \n",
    "    new_center_matrix = np.zeros((k, len(matrix[0])))\n",
    "    for i in range(len(cluster_dict_copy.keys())):\n",
    "        new_center_matrix[i] = cluster_dict_copy[i]\n",
    "        \n",
    "    return new_center_matrix\n",
    "\n",
    "def assignment_to_centroids(matrix, center_matrix, k):\n",
    "    \n",
    "    # cluster_dict key corresponds to index of clusters, values correspond to elements that belong to the cluster \n",
    "    cluster_dict = {}\n",
    "    for i in range(k):\n",
    "        cluster_dict[i] = []\n",
    "        \n",
    "    for element_idx, element in zip(range(matrix.shape[0]), matrix): # get the row (product) and its index\n",
    "        min_dist_value  = np.linalg.norm(element - center_matrix[0])\n",
    "        cluster_index = 0\n",
    "        for i in range(1, k):\n",
    "            new_dist = np.linalg.norm(element - center_matrix[i])\n",
    "            if min_dist_value > new_dist:\n",
    "                min_dist_value = new_dist\n",
    "                cluster_index = i\n",
    "        cluster_dict[cluster_index].append(element_idx)\n",
    "    \n",
    "    return cluster_dict\n",
    "\n",
    "        \n",
    "        \n",
    "def k_means(k, matrix):\n",
    "    \n",
    "    center_matrix = random_centers(k, matrix)\n",
    "    cluster_dict = assignment_to_centroids(matrix, center_matrix, k)\n",
    "    \n",
    "    while np.array_equal(center_matrix, compute_centroids(cluster_dict, matrix, k))==False:\n",
    "        center_matrix = compute_centroids(cluster_dict, matrix, k)\n",
    "        cluster_dict  = assignment_to_centroids(matrix, center_matrix, k)\n",
    "    return cluster_dict, center_matrix\n"
   ]
  },
  {
   "cell_type": "code",
   "execution_count": 11,
   "metadata": {
    "executionInfo": {
     "elapsed": 692009,
     "status": "ok",
     "timestamp": 1608376591055,
     "user": {
      "displayName": "stefano darrigo",
      "photoUrl": "",
      "userId": "15662465187320884322"
     },
     "user_tz": -60
    },
    "id": "ezmy0sYIjn6g"
   },
   "outputs": [],
   "source": [
    "cluster_dict, center_matrix = k_means(25, reduced)"
   ]
  },
  {
   "cell_type": "code",
   "execution_count": null,
   "metadata": {
    "id": "dZpDAX1otHTs"
   },
   "outputs": [],
   "source": [
    "def compute_inertia(cluster_dict, center_matrix, matrix):\n",
    "    inertia = 0\n",
    "    for cluster in cluster_dict:\n",
    "        for point_idx in cluster_dict[cluster]:\n",
    "            inertia += np.sum(np.square(matrix[point_idx] - center_matrix[cluster]))\n",
    "    return inertia\n",
    "\n",
    "\n",
    "def elbow_method(matrix, start_n=1, end_n=50):\n",
    "    end_n = end_n if end_n < matrix.shape[0] else matrix.shape[0]\n",
    "    elbow = {}\n",
    "    for k in tqdm(range(start_n, end_n)):\n",
    "        cluster_dict, center_matrix = k_means(k, matrix)\n",
    "        elbow[k] = compute_inertia(cluster_dict, center_matrix, matrix)\n",
    "    return elbow"
   ]
  },
  {
   "cell_type": "markdown",
   "metadata": {
    "id": "XcsQYdCltHTs"
   },
   "source": [
    "#### SciKit Learn K-means"
   ]
  },
  {
   "cell_type": "code",
   "execution_count": null,
   "metadata": {
    "colab": {
     "base_uri": "https://localhost:8080/"
    },
    "executionInfo": {
     "elapsed": 4260126,
     "status": "ok",
     "timestamp": 1608289704115,
     "user": {
      "displayName": "stefano darrigo",
      "photoUrl": "",
      "userId": "15662465187320884322"
     },
     "user_tz": -60
    },
    "id": "dhtSVmL3tHTs",
    "outputId": "ce7ea6ed-2b33-4296-a267-4eb980032757"
   },
   "outputs": [
    {
     "name": "stderr",
     "output_type": "stream",
     "text": [
      "100%|██████████| 11/11 [1:10:59<00:00, 387.20s/it]\n"
     ]
    }
   ],
   "source": [
    "from sklearn.cluster import KMeans\n",
    "\n",
    "\n",
    "elbow = {}\n",
    "for k in tqdm(range(3,223,20)):\n",
    "    elbow_model = KMeans(n_clusters=k, init='random')\n",
    "    elbow_model.fit_predict(reduced)\n",
    "    elbow[k] = elbow_model.inertia_ "
   ]
  },
  {
   "cell_type": "code",
   "execution_count": null,
   "metadata": {
    "id": "BIkIeH12tHTv"
   },
   "outputs": [],
   "source": [
    "def plot_elbow(elbow):\n",
    "    plt.figure(figsize=(16,10))\n",
    "    plt.plot(list(elbow.keys()), list(elbow.values()))\n",
    "    plt.grid()\n",
    "    plt.xlabel('Number of clusters')\n",
    "    plt.show()"
   ]
  },
  {
   "cell_type": "code",
   "execution_count": null,
   "metadata": {
    "colab": {
     "base_uri": "https://localhost:8080/",
     "height": 606
    },
    "executionInfo": {
     "elapsed": 951,
     "status": "ok",
     "timestamp": 1608290405788,
     "user": {
      "displayName": "stefano darrigo",
      "photoUrl": "",
      "userId": "15662465187320884322"
     },
     "user_tz": -60
    },
    "id": "Woo0TXfKk-Ov",
    "outputId": "11c4b986-8a83-4573-d227-ef792a042248"
   },
   "outputs": [
    {
     "data": {
      "image/png": "[encoded data removed]",
      "text/plain": [
       "<Figure size 1152x720 with 1 Axes>"
      ]
     },
     "metadata": {
      "needs_background": "light",
      "tags": []
     },
     "output_type": "display_data"
    }
   ],
   "source": [
    "plot_elbow(elbow)"
   ]
  },
  {
   "cell_type": "code",
   "execution_count": null,
   "metadata": {
    "colab": {
     "base_uri": "https://localhost:8080/",
     "height": 606
    },
    "executionInfo": {
     "elapsed": 1047,
     "status": "ok",
     "timestamp": 1608283198741,
     "user": {
      "displayName": "stefano darrigo",
      "photoUrl": "",
      "userId": "15662465187320884322"
     },
     "user_tz": -60
    },
    "id": "MZEWcKSdt4BY",
    "outputId": "cc25dc74-a6f2-402e-87a8-1b911cccf7a9"
   },
   "outputs": [
    {
     "data": {
      "image/png": "[encoded data removed]",
      "text/plain": [
       "<Figure size 1152x720 with 1 Axes>"
      ]
     },
     "metadata": {
      "needs_background": "light",
      "tags": []
     },
     "output_type": "display_data"
    }
   ],
   "source": [
    "plot_elbow(elbow)"
   ]
  },
  {
   "cell_type": "code",
   "execution_count": null,
   "metadata": {
    "id": "qngTtRfptHTv",
    "outputId": "df9d0520-ee58-42cc-811d-1da9cbf2aed9"
   },
   "outputs": [
    {
     "data": {
      "image/png": "[encoded data removed]",
      "text/plain": [
       "<Figure size 1152x720 with 1 Axes>"
      ]
     },
     "metadata": {
      "needs_background": "light",
      "tags": []
     },
     "output_type": "display_data"
    }
   ],
   "source": [
    "elbow_bck = elbow\n",
    "r = {**r, **elbow}\n",
    "plot_elbow(r)"
   ]
  },
  {
   "cell_type": "code",
   "execution_count": null,
   "metadata": {
    "id": "ykMEE6L0tHTw",
    "outputId": "cffe42a9-7905-47bb-c2db-fb12d432645c"
   },
   "outputs": [
    {
     "data": {
      "image/png": "[encoded data removed]",
      "text/plain": [
       "<Figure size 1152x720 with 1 Axes>"
      ]
     },
     "metadata": {
      "needs_background": "light",
      "tags": []
     },
     "output_type": "display_data"
    }
   ],
   "source": [
    "plot_elbow(elbow)"
   ]
  },
  {
   "cell_type": "markdown",
   "metadata": {
    "id": "Vx2rV7rvruUX"
   },
   "source": [
    "### 2.3 Analyse the obtained clusters"
   ]
  },
  {
   "cell_type": "markdown",
   "metadata": {
    "id": "RTPviryisjAi"
   },
   "source": [
    "#### Identify the kind of products in the cluster "
   ]
  },
  {
   "cell_type": "code",
   "execution_count": 14,
   "metadata": {
    "colab": {
     "base_uri": "https://localhost:8080/"
    },
    "executionInfo": {
     "elapsed": 4623,
     "status": "ok",
     "timestamp": 1608376858667,
     "user": {
      "displayName": "stefano darrigo",
      "photoUrl": "",
      "userId": "15662465187320884322"
     },
     "user_tz": -60
    },
    "id": "4VG7XBsSuvER",
    "outputId": "11d2f233-2474-4ca7-b295-18fbc6429154"
   },
   "outputs": [
    {
     "name": "stdout",
     "output_type": "stream",
     "text": [
      "Requirement already satisfied: wordcloud in /usr/local/lib/python3.6/dist-packages (1.5.0)\n",
      "Requirement already satisfied: pillow in /usr/local/lib/python3.6/dist-packages (from wordcloud) (7.0.0)\n",
      "Requirement already satisfied: numpy>=1.6.1 in /usr/local/lib/python3.6/dist-packages (from wordcloud) (1.19.4)\n"
     ]
    }
   ],
   "source": [
    "!pip3 install wordcloud"
   ]
  },
  {
   "cell_type": "code",
   "execution_count": 18,
   "metadata": {
    "colab": {
     "base_uri": "https://localhost:8080/"
    },
    "executionInfo": {
     "elapsed": 604,
     "status": "ok",
     "timestamp": 1608377243822,
     "user": {
      "displayName": "stefano darrigo",
      "photoUrl": "",
      "userId": "15662465187320884322"
     },
     "user_tz": -60
    },
    "id": "LZY_mo_RwP5G",
    "outputId": "c0da45b0-6b03-421c-920b-a25cb27f95ef"
   },
   "outputs": [
    {
     "data": {
      "text/plain": [
       "array([ 5373, 24836, 20598,  9851, 14774])"
      ]
     },
     "execution_count": 18,
     "metadata": {
      "tags": []
     },
     "output_type": "execute_result"
    }
   ],
   "source": [
    "np.argsort(svd.components_[0])[:-5]"
   ]
  },
  {
   "cell_type": "code",
   "execution_count": 24,
   "metadata": {
    "colab": {
     "base_uri": "https://localhost:8080/"
    },
    "executionInfo": {
     "elapsed": 832,
     "status": "ok",
     "timestamp": 1608377447441,
     "user": {
      "displayName": "stefano darrigo",
      "photoUrl": "",
      "userId": "15662465187320884322"
     },
     "user_tz": -60
    },
    "id": "T0R7cqCUvQtF",
    "outputId": "e5970f14-a799-408a-a14e-4bb1af0eed5a"
   },
   "outputs": [
    {
     "name": "stdout",
     "output_type": "stream",
     "text": [
      "flavor\n",
      "coffee\n",
      "taste\n",
      "tea\n",
      "br\n"
     ]
    }
   ],
   "source": [
    "fn = vectorizer.get_feature_names()\n",
    "\n",
    "for i in np.argsort(svd.components_[0])[-5:]:\n",
    "  print(fn[i])"
   ]
  },
  {
   "cell_type": "code",
   "execution_count": null,
   "metadata": {
    "id": "XP5XQQnNrtLL"
   },
   "outputs": [],
   "source": [
    "words = vectorizer.get_feature_names()"
   ]
  },
  {
   "cell_type": "markdown",
   "metadata": {
    "id": "7EQYpOpSfR-Y"
   },
   "source": [
    "<br>\n",
    "\n",
    "## 3. Algorithmic question"
   ]
  },
  {
   "cell_type": "markdown",
   "metadata": {
    "id": "4YXuKBX-fa1X"
   },
   "source": [
    "**Theorem.** Let $A$ be an array of $n$ integers and let $s$ and $b$ be the minimum $\\min\\{A\\}$ and the maximum $\\max\\{A\\}$ of $A$, respectively.\n",
    "\n",
    "Then, defined $r = b - s$, we can prove that $A$ can be sorted in $\\mathbf{O}(n+r) time$.\n",
    "\n",
    "**Proof.**\n",
    "\n",
    "To prove this statement, let us consider the *Counting sort* algorithm, which assumes that it is given as input a set of integers in the range $[h,h+k]$, $\\forall h,k\\in \\mathbb{N}$ where $h \\lt k$. Then, for each number $x$, it determines how many elements are less than $x$ and then places $x$ into the right position in the output array. It requires an extra array $C$ of dimension $r$.\n",
    "\n",
    "$$\n",
    "COUNTING-SORT(A, B): \\\\\n",
    "1 \\hspace{8mm} s = \\min{A}\\\\\n",
    "2 \\hspace{8mm} b = \\max{A}\\\\\n",
    "3 \\hspace{8mm} r = b - s\\\\\n",
    "4 \\hspace{8mm} \\text{let } C[0, r] \\text{ be an array}\\\\\n",
    "5 \\hspace{8mm} \\textbf{for } i=0 \\textbf{ to } r:\\\\\n",
    "6 \\hspace{16mm} C[i]=0\\\\\n",
    "7 \\hspace{8mm} \\textbf{for } i=0 \\textbf{ to } A.length:\\\\\n",
    "8 \\hspace{16mm} C[A[i]] = C[A[i]] + 1\\\\\n",
    "9 \\hspace{8mm} \\textbf{for } i=0 \\textbf{ to } r:\\\\\n",
    "10 \\hspace{16mm} C[i]=C[i]+C[i-1]\\\\\n",
    "11 \\hspace{8mm} \\text{let } B[0,n] \\text{ be a new array}\\\\\n",
    "12 \\hspace{8mm} \\textbf{for } i=A.length \\textbf{ down to } 0:\\\\\n",
    "13 \\hspace{16mm} B[C[A[i]]] = A[i]\\\\\n",
    "14 \\hspace{16mm} C[A[i]] = C[A[i]] - 1\\\\\n",
    "15 \\hspace{8mm} \\textbf{return } B \n",
    "$$\n",
    "\n",
    "Analyzing the algorithm, lines $1$ and $2$, i.e. the research of the minimum and the maximum of $A$, take $\\mathbf{O}(n)$ each. Scanning $C$ takes $\\mathbf{O}(r)$ and placing the sorted numbers in $B$ takes again $\\mathbf{O}(n)$. Then, the overall complexity of *Counting Sort* is $\\mathbf{O}(n) + \\mathbf{O}(r) = \\mathbf{O}(n+r)$.\n",
    "\n",
    "In the end, we proved that $A$ can be sorted in $\\mathbf{O}(n+r)$."
   ]
  },
  {
   "cell_type": "markdown",
   "metadata": {
    "id": "lUMFKFQVjn6k"
   },
   "source": [
    "---\n",
    "\n",
    "## References"
   ]
  },
  {
   "cell_type": "markdown",
   "metadata": {
    "id": "hK0H0_VWjn6k"
   },
   "source": [
    "<div id='r:1'>[1] V. K. Singh, N. Tiwari and S. Garg, \"Document Clustering Using K-Means, Heuristic K-Means and Fuzzy C-Means,\" 2011 International Conference on Computational Intelligence and Communication Networks, Gwalior, 2011, pp. 297-301, doi: 10.1109/CICN.2011.62.</div><br>\n",
    "\n",
    "<div id='r:2'>[2] Anna Huang, \"Similarity Measures for Text Document Clustering\", NZCSRSC 2008, April 2008, Christchurch, New Zeland, doi: 10.1.1.332.4480.</div><br>\n",
    "\n",
    "<div id='r:3>[3]'>[3] Lucas de Sá, \"Text Clustering with K-Means\", Medium, Dec 18 2019,  https://medium.com/@lucasdesa/text-clustering-with-k-means-a039d84a941b</div><br>\n",
    "\n",
    "<div id='r:4'>[4] \"Clustering text documents using k-means\", ScikitLearn, https://scikit-learn.org/stable/auto_examples/text/plot_document_clustering.html#sphx-glr-auto-examples-text-plot-document-clustering-py</div>"
   ]
  }
 ],
 "metadata": {
  "colab": {
   "collapsed_sections": [],
   "name": "main.ipynb",
   "provenance": []
  },
  "kernelspec": {
   "display_name": "Python 3",
   "language": "python",
   "name": "python3"
  },
  "language_info": {
   "codemirror_mode": {
    "name": "ipython",
    "version": 3
   },
   "file_extension": ".py",
   "mimetype": "text/x-python",
   "name": "python",
   "nbconvert_exporter": "python",
   "pygments_lexer": "ipython3",
   "version": "3.8.3"
  }
 },
 "nbformat": 4,
 "nbformat_minor": 1
}
